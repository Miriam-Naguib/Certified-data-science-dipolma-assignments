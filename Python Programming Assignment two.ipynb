{
 "cells": [
  {
   "cell_type": "markdown",
   "metadata": {
    "collapsed": true,
    "id": "p7h_dsmsuKcg"
   },
   "source": [
    "# Let's test your knowledge!"
   ]
  },
  {
   "cell_type": "markdown",
   "metadata": {
    "id": "UiobB6QwuKcp"
   },
   "source": [
    "## Dictionaries\n",
    "\n",
    "Using keys and indexing, grab the 'hello' from the following dictionaries:"
   ]
  },
  {
   "cell_type": "code",
   "execution_count": 2,
   "metadata": {
    "id": "kurTPeTkuKcq"
   },
   "outputs": [],
   "source": [
    "d = {'simple_key':'hello'}\n",
    "# Grab 'hello'\n"
   ]
  },
  {
   "cell_type": "code",
   "execution_count": 6,
   "metadata": {},
   "outputs": [
    {
     "data": {
      "text/plain": [
       "'hello'"
      ]
     },
     "execution_count": 6,
     "metadata": {},
     "output_type": "execute_result"
    }
   ],
   "source": [
    "#solution\n",
    "d ['simple_key']\n",
    "##another solution\n",
    "d.get('simple_key')\n",
    "'hello'"
   ]
  },
  {
   "cell_type": "code",
   "execution_count": 8,
   "metadata": {
    "id": "54IoaosIuKcs"
   },
   "outputs": [],
   "source": [
    "d1= {'k1':{'k2':'hello'}}\n",
    "# Grab(Get) 'hello'\n"
   ]
  },
  {
   "cell_type": "code",
   "execution_count": 9,
   "metadata": {},
   "outputs": [
    {
     "data": {
      "text/plain": [
       "'hello'"
      ]
     },
     "execution_count": 9,
     "metadata": {},
     "output_type": "execute_result"
    }
   ],
   "source": [
    "#solution\n",
    "d1 ['k1']['k2']"
   ]
  },
  {
   "cell_type": "code",
   "execution_count": 10,
   "metadata": {
    "id": "zSdhUXzLuKct"
   },
   "outputs": [],
   "source": [
    "# Getting a little tricker\n",
    "d2= {'k1':[{'nest_key':['this is deep',['hello']]}]}\n",
    "\n",
    "#Grab(Get) hello\n"
   ]
  },
  {
   "cell_type": "code",
   "execution_count": 12,
   "metadata": {},
   "outputs": [
    {
     "data": {
      "text/plain": [
       "'hello'"
      ]
     },
     "execution_count": 12,
     "metadata": {},
     "output_type": "execute_result"
    }
   ],
   "source": [
    "#solution\n",
    "d2 ['k1'][0]['nest_key'][1][0]\n",
    "'hello'"
   ]
  },
  {
   "cell_type": "code",
   "execution_count": 13,
   "metadata": {
    "id": "Qbp3uonfuKcu"
   },
   "outputs": [],
   "source": [
    "# This will be hard and annoying!\n",
    "d3= {'k1':[1,2,{'k2':['this is tricky',{'tough':[1,2,['hello']]}]}]}\n",
    "\n",
    "#Get hello\n"
   ]
  },
  {
   "cell_type": "code",
   "execution_count": 14,
   "metadata": {},
   "outputs": [
    {
     "data": {
      "text/plain": [
       "'hello'"
      ]
     },
     "execution_count": 14,
     "metadata": {},
     "output_type": "execute_result"
    }
   ],
   "source": [
    "d3['k1'][2]['k2'][1]['tough'][2][0]"
   ]
  },
  {
   "cell_type": "markdown",
   "metadata": {
    "id": "dYDmvnBwuKcv"
   },
   "source": [
    "## sets\n",
    "\n",
    "Use a set to find the unique values of the list below:"
   ]
  },
  {
   "cell_type": "code",
   "execution_count": 16,
   "metadata": {
    "id": "pwpQYBYhuKcx"
   },
   "outputs": [],
   "source": [
    "list5 = [1,2,2,33,4,4,11,22,3,3,2]"
   ]
  },
  {
   "cell_type": "code",
   "execution_count": 17,
   "metadata": {},
   "outputs": [],
   "source": [
    "s1=set(list5)"
   ]
  },
  {
   "cell_type": "code",
   "execution_count": 18,
   "metadata": {},
   "outputs": [
    {
     "data": {
      "text/plain": [
       "{1, 2, 3, 4, 11, 22, 33}"
      ]
     },
     "execution_count": 18,
     "metadata": {},
     "output_type": "execute_result"
    }
   ],
   "source": [
    "s1"
   ]
  },
  {
   "cell_type": "markdown",
   "metadata": {
    "id": "aQ30siXRuKcz"
   },
   "source": [
    "**Use <code>for</code>, .split(), and <code>if</code> to create a Statement that will print out words that start with 's':**"
   ]
  },
  {
   "cell_type": "code",
   "execution_count": 19,
   "metadata": {
    "id": "LPPwQC3_uKcz"
   },
   "outputs": [],
   "source": [
    "st = 'Print only the words that start with s in this sentence'"
   ]
  },
  {
   "cell_type": "code",
   "execution_count": null,
   "metadata": {
    "id": "Kvnt6hrpuKc1"
   },
   "outputs": [],
   "source": [
    "#Code here"
   ]
  },
  {
   "cell_type": "code",
   "execution_count": 20,
   "metadata": {},
   "outputs": [
    {
     "name": "stdout",
     "output_type": "stream",
     "text": [
      "start\n",
      "s\n",
      "sentence\n"
     ]
    }
   ],
   "source": [
    "for i in st.split():\n",
    "    if i.startswith(\"s\"):\n",
    "        print(i)"
   ]
  },
  {
   "cell_type": "markdown",
   "metadata": {
    "id": "98l6KqwSuKc2"
   },
   "source": [
    "______\n",
    "**Use range() to print all the even numbers from 0 to 10.**"
   ]
  },
  {
   "cell_type": "code",
   "execution_count": 21,
   "metadata": {
    "id": "B2Fc9oOtuKc3"
   },
   "outputs": [
    {
     "name": "stdout",
     "output_type": "stream",
     "text": [
      "0\n",
      "2\n",
      "4\n",
      "6\n",
      "8\n",
      "10\n"
     ]
    }
   ],
   "source": [
    "for i in range(11):\n",
    "    if i%2==0:\n",
    "        print(i)"
   ]
  },
  {
   "cell_type": "markdown",
   "metadata": {
    "id": "1EWQuLLHuKc4"
   },
   "source": [
    "**Use a List Comprehension to create a list of all numbers between 1 and 50 that are divisible by 3.**"
   ]
  },
  {
   "cell_type": "code",
   "execution_count": 22,
   "metadata": {
    "id": "OT9w2vZhuKc5"
   },
   "outputs": [],
   "source": [
    "l1= [i for i in range(51) if i%3==0 ]"
   ]
  },
  {
   "cell_type": "code",
   "execution_count": 23,
   "metadata": {},
   "outputs": [
    {
     "data": {
      "text/plain": [
       "[0, 3, 6, 9, 12, 15, 18, 21, 24, 27, 30, 33, 36, 39, 42, 45, 48]"
      ]
     },
     "execution_count": 23,
     "metadata": {},
     "output_type": "execute_result"
    }
   ],
   "source": [
    "l1"
   ]
  },
  {
   "cell_type": "markdown",
   "metadata": {
    "id": "NpaYNKquuKc6"
   },
   "source": [
    "**Go through the string below and if the length of a word is even print \"even!\"**"
   ]
  },
  {
   "cell_type": "code",
   "execution_count": 25,
   "metadata": {
    "id": "19Zq3O8PuKc6"
   },
   "outputs": [],
   "source": [
    "st1= 'Print every word in this sentence that has an even number of letters'"
   ]
  },
  {
   "cell_type": "code",
   "execution_count": 26,
   "metadata": {},
   "outputs": [
    {
     "name": "stdout",
     "output_type": "stream",
     "text": [
      "word\n",
      "in\n",
      "this\n",
      "sentence\n",
      "that\n",
      "an\n",
      "even\n",
      "number\n",
      "of\n"
     ]
    }
   ],
   "source": [
    "for i in st1.split():\n",
    "    if len(i)%2 ==0:\n",
    "        print(i)"
   ]
  },
  {
   "cell_type": "markdown",
   "metadata": {
    "id": "2TzHaowxuKc8"
   },
   "source": [
    "**Write a program that prints the integers from 1 to 100. But for multiples of three print \"Fizz\" instead of the number, and for the multiples of five print \"Buzz\". For numbers which are multiples of both three and five print \"FizzBuzz\".**"
   ]
  },
  {
   "cell_type": "code",
   "execution_count": 49,
   "metadata": {},
   "outputs": [
    {
     "name": "stdout",
     "output_type": "stream",
     "text": [
      "Fizz\n",
      "3\n",
      "Buzz\n",
      "5\n",
      "Fizz\n",
      "6\n",
      "Fizz\n",
      "9\n",
      "Buzz\n",
      "10\n",
      "Fizz\n",
      "12\n",
      "FizzBuzz\n",
      "15\n",
      "Fizz\n",
      "18\n",
      "Buzz\n",
      "20\n",
      "Fizz\n",
      "21\n",
      "Fizz\n",
      "24\n",
      "Buzz\n",
      "25\n",
      "Fizz\n",
      "27\n",
      "FizzBuzz\n",
      "30\n",
      "Fizz\n",
      "33\n",
      "Buzz\n",
      "35\n",
      "Fizz\n",
      "36\n",
      "Fizz\n",
      "39\n",
      "Buzz\n",
      "40\n",
      "Fizz\n",
      "42\n",
      "FizzBuzz\n",
      "45\n",
      "Fizz\n",
      "48\n",
      "Buzz\n",
      "50\n",
      "Fizz\n",
      "51\n",
      "Fizz\n",
      "54\n",
      "Buzz\n",
      "55\n",
      "Fizz\n",
      "57\n",
      "FizzBuzz\n",
      "60\n",
      "Fizz\n",
      "63\n",
      "Buzz\n",
      "65\n",
      "Fizz\n",
      "66\n",
      "Fizz\n",
      "69\n",
      "Buzz\n",
      "70\n",
      "Fizz\n",
      "72\n",
      "FizzBuzz\n",
      "75\n",
      "Fizz\n",
      "78\n",
      "Buzz\n",
      "80\n",
      "Fizz\n",
      "81\n",
      "Fizz\n",
      "84\n",
      "Buzz\n",
      "85\n",
      "Fizz\n",
      "87\n",
      "FizzBuzz\n",
      "90\n",
      "Fizz\n",
      "93\n",
      "Buzz\n",
      "95\n",
      "Fizz\n",
      "96\n",
      "Fizz\n",
      "99\n",
      "Buzz\n",
      "100\n"
     ]
    }
   ],
   "source": [
    "for number in range(1,101):\n",
    "    if number%5==0 and number%3==0:\n",
    "        print('FizzBuzz')\n",
    "        print(number)\n",
    "    elif number%3==0:\n",
    "        print('Fizz')\n",
    "        print(number)\n",
    "    elif number%5==0:\n",
    "        print('Buzz')\n",
    "        print(number)\n",
    "    else: \n",
    "        continue"
   ]
  },
  {
   "cell_type": "code",
   "execution_count": null,
   "metadata": {
    "id": "byIgPBqsuKc9"
   },
   "outputs": [],
   "source": [
    "#Code in this cell"
   ]
  },
  {
   "cell_type": "markdown",
   "metadata": {
    "id": "J-OyFBoxuKc-"
   },
   "source": [
    "**Use List Comprehension to create a list of the first letters of every word in the string below:**"
   ]
  },
  {
   "cell_type": "code",
   "execution_count": 28,
   "metadata": {
    "executionInfo": {
     "elapsed": 822,
     "status": "ok",
     "timestamp": 1632854778253,
     "user": {
      "displayName": "hussein ali",
      "photoUrl": "https://lh3.googleusercontent.com/a-/AOh14Ggpvr8LMJVqpnGt5WUdNJEhucIzfB6wnLlHSoWlIw=s64",
      "userId": "08295889238138402725"
     },
     "user_tz": -120
    },
    "id": "G9iQfy7iuKc_"
   },
   "outputs": [],
   "source": [
    "st2= 'Create a list of the first letters of every word in this string'"
   ]
  },
  {
   "cell_type": "code",
   "execution_count": 29,
   "metadata": {
    "executionInfo": {
     "elapsed": 560,
     "status": "ok",
     "timestamp": 1632854812143,
     "user": {
      "displayName": "hussein ali",
      "photoUrl": "https://lh3.googleusercontent.com/a-/AOh14Ggpvr8LMJVqpnGt5WUdNJEhucIzfB6wnLlHSoWlIw=s64",
      "userId": "08295889238138402725"
     },
     "user_tz": -120
    },
    "id": "u63X9vRHuKc_"
   },
   "outputs": [
    {
     "data": {
      "text/plain": [
       "['C', 'a', 'l', 'o', 't', 'f', 'l', 'o', 'e', 'w', 'i', 't', 's']"
      ]
     },
     "execution_count": 29,
     "metadata": {},
     "output_type": "execute_result"
    }
   ],
   "source": [
    "[word[0] for word in st2.split()]"
   ]
  },
  {
   "cell_type": "code",
   "execution_count": 37,
   "metadata": {},
   "outputs": [],
   "source": [
    "def split_word_first_letter(sentence):\n",
    "    first_letters=[]\n",
    "    for word in sentence.split():\n",
    "        first_letters.append(word[0])\n",
    "    return first_letters"
   ]
  },
  {
   "cell_type": "code",
   "execution_count": 40,
   "metadata": {},
   "outputs": [],
   "source": [
    "first_letter_lst=[]\n",
    "first_letter_lst=split_word_first_letter(st2)"
   ]
  },
  {
   "cell_type": "code",
   "execution_count": 41,
   "metadata": {},
   "outputs": [
    {
     "data": {
      "text/plain": [
       "['C', 'a', 'l', 'o', 't', 'f', 'l', 'o', 'e', 'w', 'i', 't', 's']"
      ]
     },
     "execution_count": 41,
     "metadata": {},
     "output_type": "execute_result"
    }
   ],
   "source": [
    "first_letter_lst"
   ]
  },
  {
   "cell_type": "markdown",
   "metadata": {
    "id": "l_DRmxVcuKdA"
   },
   "source": [
    "### Great Job!"
   ]
  }
 ],
 "metadata": {
  "colab": {
   "name": "Lecture 3 Python Programming Assignment.ipynb",
   "provenance": []
  },
  "kernelspec": {
   "display_name": "Python 3",
   "language": "python",
   "name": "python3"
  },
  "language_info": {
   "codemirror_mode": {
    "name": "ipython",
    "version": 3
   },
   "file_extension": ".py",
   "mimetype": "text/x-python",
   "name": "python",
   "nbconvert_exporter": "python",
   "pygments_lexer": "ipython3",
   "version": "3.7.6"
  }
 },
 "nbformat": 4,
 "nbformat_minor": 1
}
