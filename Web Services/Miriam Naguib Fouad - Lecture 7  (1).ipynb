{
 "cells": [
  {
   "cell_type": "markdown",
   "metadata": {},
   "source": [
    "## TASK 1"
   ]
  },
  {
   "cell_type": "code",
   "execution_count": 4,
   "metadata": {},
   "outputs": [],
   "source": [
    "import requests"
   ]
  },
  {
   "cell_type": "code",
   "execution_count": 2,
   "metadata": {},
   "outputs": [],
   "source": [
    "response=requests.get('https://api.frankfurter.app/latest?amount=1&amp;from=USD&amp;to=EUR')"
   ]
  },
  {
   "cell_type": "code",
   "execution_count": 3,
   "metadata": {},
   "outputs": [],
   "source": [
    "data=response.json()"
   ]
  },
  {
   "cell_type": "code",
   "execution_count": 4,
   "metadata": {},
   "outputs": [
    {
     "data": {
      "text/plain": [
       "{'amount': 1.0, 'base': 'USD', 'date': '2021-12-20', 'rates': {'EUR': 0.88708}}"
      ]
     },
     "execution_count": 4,
     "metadata": {},
     "output_type": "execute_result"
    }
   ],
   "source": [
    "data"
   ]
  },
  {
   "cell_type": "code",
   "execution_count": 5,
   "metadata": {},
   "outputs": [],
   "source": [
    "x=data['rates']['EUR']"
   ]
  },
  {
   "cell_type": "code",
   "execution_count": 6,
   "metadata": {},
   "outputs": [
    {
     "data": {
      "text/plain": [
       "0.88708"
      ]
     },
     "execution_count": 6,
     "metadata": {},
     "output_type": "execute_result"
    }
   ],
   "source": [
    "x"
   ]
  },
  {
   "cell_type": "code",
   "execution_count": 7,
   "metadata": {},
   "outputs": [],
   "source": [
    "def Convert_US_Dollars_to_Euros():\n",
    "    USD=int(input('Enter the USD Value: '))\n",
    "    Euros=USD*x\n",
    "    return Euros"
   ]
  },
  {
   "cell_type": "code",
   "execution_count": 8,
   "metadata": {},
   "outputs": [
    {
     "name": "stdout",
     "output_type": "stream",
     "text": [
      "Enter the USD Value: 10\n"
     ]
    },
    {
     "data": {
      "text/plain": [
       "8.8708"
      ]
     },
     "execution_count": 8,
     "metadata": {},
     "output_type": "execute_result"
    }
   ],
   "source": [
    "Convert_US_Dollars_to_Euros()"
   ]
  },
  {
   "cell_type": "markdown",
   "metadata": {},
   "source": [
    "## TASK 2"
   ]
  },
  {
   "cell_type": "code",
   "execution_count": 5,
   "metadata": {},
   "outputs": [],
   "source": [
    "response1=requests.get('https://www.metaweather.com/api/location/1521894/')"
   ]
  },
  {
   "cell_type": "code",
   "execution_count": 6,
   "metadata": {},
   "outputs": [],
   "source": [
    "Data_Weather=response1.json()"
   ]
  },
  {
   "cell_type": "code",
   "execution_count": 7,
   "metadata": {},
   "outputs": [
    {
     "data": {
      "text/plain": [
       "[{'id': 5161255472988160,\n",
       "  'weather_state_name': 'Heavy Cloud',\n",
       "  'weather_state_abbr': 'hc',\n",
       "  'wind_direction_compass': 'NW',\n",
       "  'created': '2021-12-23T13:34:23.153914Z',\n",
       "  'applicable_date': '2021-12-23',\n",
       "  'min_temp': 11.065,\n",
       "  'max_temp': 17.854999999999997,\n",
       "  'the_temp': 17.185000000000002,\n",
       "  'wind_speed': 4.241082161430579,\n",
       "  'wind_direction': 308.46643721935817,\n",
       "  'air_pressure': 1021.0,\n",
       "  'humidity': 70,\n",
       "  'visibility': 12.236662888729818,\n",
       "  'predictability': 71},\n",
       " {'id': 5891521573289984,\n",
       "  'weather_state_name': 'Light Cloud',\n",
       "  'weather_state_abbr': 'lc',\n",
       "  'wind_direction_compass': 'NNW',\n",
       "  'created': '2021-12-23T13:34:26.274036Z',\n",
       "  'applicable_date': '2021-12-24',\n",
       "  'min_temp': 10.57,\n",
       "  'max_temp': 18.655,\n",
       "  'the_temp': 17.759999999999998,\n",
       "  'wind_speed': 6.609144969317851,\n",
       "  'wind_direction': 341.8288527480584,\n",
       "  'air_pressure': 1022.5,\n",
       "  'humidity': 52,\n",
       "  'visibility': 13.01896921975662,\n",
       "  'predictability': 70},\n",
       " {'id': 4633176182882304,\n",
       "  'weather_state_name': 'Clear',\n",
       "  'weather_state_abbr': 'c',\n",
       "  'wind_direction_compass': 'NNE',\n",
       "  'created': '2021-12-23T13:34:29.171620Z',\n",
       "  'applicable_date': '2021-12-25',\n",
       "  'min_temp': 9.135,\n",
       "  'max_temp': 18.715,\n",
       "  'the_temp': 17.93,\n",
       "  'wind_speed': 5.680887763464036,\n",
       "  'wind_direction': 31.492750022404103,\n",
       "  'air_pressure': 1025.0,\n",
       "  'humidity': 48,\n",
       "  'visibility': 12.804596158434741,\n",
       "  'predictability': 68},\n",
       " {'id': 4592291382558720,\n",
       "  'weather_state_name': 'Clear',\n",
       "  'weather_state_abbr': 'c',\n",
       "  'wind_direction_compass': 'NNE',\n",
       "  'created': '2021-12-23T13:34:32.253584Z',\n",
       "  'applicable_date': '2021-12-26',\n",
       "  'min_temp': 8.924999999999999,\n",
       "  'max_temp': 19.705,\n",
       "  'the_temp': 18.23,\n",
       "  'wind_speed': 6.483694543193085,\n",
       "  'wind_direction': 27.501334708476325,\n",
       "  'air_pressure': 1023.0,\n",
       "  'humidity': 54,\n",
       "  'visibility': 13.29423665791776,\n",
       "  'predictability': 68},\n",
       " {'id': 6287579197472768,\n",
       "  'weather_state_name': 'Light Cloud',\n",
       "  'weather_state_abbr': 'lc',\n",
       "  'wind_direction_compass': 'NE',\n",
       "  'created': '2021-12-23T13:34:36.263282Z',\n",
       "  'applicable_date': '2021-12-27',\n",
       "  'min_temp': 9.895,\n",
       "  'max_temp': 20.835,\n",
       "  'the_temp': 19.009999999999998,\n",
       "  'wind_speed': 5.529487677419868,\n",
       "  'wind_direction': 41.0,\n",
       "  'air_pressure': 1021.5,\n",
       "  'humidity': 55,\n",
       "  'visibility': 13.185496699276227,\n",
       "  'predictability': 70},\n",
       " {'id': 5271080966029312,\n",
       "  'weather_state_name': 'Light Cloud',\n",
       "  'weather_state_abbr': 'lc',\n",
       "  'wind_direction_compass': 'NE',\n",
       "  'created': '2021-12-23T13:34:38.652374Z',\n",
       "  'applicable_date': '2021-12-28',\n",
       "  'min_temp': 9.805,\n",
       "  'max_temp': 19.955,\n",
       "  'the_temp': 17.17,\n",
       "  'wind_speed': 3.456337190805695,\n",
       "  'wind_direction': 53.0,\n",
       "  'air_pressure': 1020.0,\n",
       "  'humidity': 66,\n",
       "  'visibility': 9.999726596675416,\n",
       "  'predictability': 70}]"
      ]
     },
     "execution_count": 7,
     "metadata": {},
     "output_type": "execute_result"
    }
   ],
   "source": [
    "Data_Weather['consolidated_weather']"
   ]
  },
  {
   "cell_type": "code",
   "execution_count": 8,
   "metadata": {},
   "outputs": [
    {
     "data": {
      "text/plain": [
       "(17.185000000000002,\n",
       " 70,\n",
       " 12.236662888729818,\n",
       " 1021.0,\n",
       " 4.241082161430579,\n",
       " '2021-12-23T13:34:23.153914Z')"
      ]
     },
     "execution_count": 8,
     "metadata": {},
     "output_type": "execute_result"
    }
   ],
   "source": [
    "Data_Weather['consolidated_weather'][0]['the_temp'], Data_Weather['consolidated_weather'][0]['humidity'],Data_Weather['consolidated_weather'][0]['visibility'],Data_Weather['consolidated_weather'][0]['air_pressure'], Data_Weather['consolidated_weather'][0]['wind_speed'],Data_Weather['consolidated_weather'][0]['created']"
   ]
  },
  {
   "cell_type": "code",
   "execution_count": 36,
   "metadata": {},
   "outputs": [],
   "source": [
    "import csv\n",
    "with open('Temperature.csv','w',newline=\"\") as f:\n",
    "    writer=csv.writer(f)\n",
    "    writer.writerow(['datetime','Temperature', 'Humidity', 'Visibility', 'Air_Pressure', 'Wind_Speed'])\n",
    "    datetime=Data_Weather['consolidated_weather'][0]['created']\n",
    "    Temperature=Data_Weather['consolidated_weather'][0]['the_temp']\n",
    "    Humidity=Data_Weather['consolidated_weather'][0]['humidity']\n",
    "    Visibility=Data_Weather['consolidated_weather'][0]['visibility']\n",
    "    Air_Pressure=Data_Weather['consolidated_weather'][0]['air_pressure']\n",
    "    Wind_Speed=Data_Weather['consolidated_weather'][0]['wind_speed']\n",
    "    writer.writerow([datetime,Temperature, Humidity, Visibility,Air_Pressure,Wind_Speed])"
   ]
  },
  {
   "cell_type": "code",
   "execution_count": 15,
   "metadata": {},
   "outputs": [],
   "source": [
    "import csv\n",
    "with open('Temperature.csv','a',newline=\"\") as f:\n",
    "    writer=csv.writer(f)\n",
    "    datetime=Data_Weather['consolidated_weather'][0]['created']\n",
    "    Temperature=Data_Weather['consolidated_weather'][0]['the_temp']\n",
    "    Humidity=Data_Weather['consolidated_weather'][0]['humidity']\n",
    "    Visibility=Data_Weather['consolidated_weather'][0]['visibility']\n",
    "    Air_Pressure=Data_Weather['consolidated_weather'][0]['air_pressure']\n",
    "    Wind_Speed=Data_Weather['consolidated_weather'][0]['wind_speed']\n",
    "    writer.writerow([datetime,Temperature, Humidity, Visibility,Air_Pressure,Wind_Speed])"
   ]
  },
  {
   "cell_type": "code",
   "execution_count": 16,
   "metadata": {},
   "outputs": [],
   "source": [
    "import pandas as pd"
   ]
  },
  {
   "cell_type": "code",
   "execution_count": 17,
   "metadata": {},
   "outputs": [],
   "source": [
    "dataframe= pd.read_csv('Temperature.csv')"
   ]
  },
  {
   "cell_type": "code",
   "execution_count": 18,
   "metadata": {
    "scrolled": true
   },
   "outputs": [
    {
     "data": {
      "text/html": [
       "<div>\n",
       "<style scoped>\n",
       "    .dataframe tbody tr th:only-of-type {\n",
       "        vertical-align: middle;\n",
       "    }\n",
       "\n",
       "    .dataframe tbody tr th {\n",
       "        vertical-align: top;\n",
       "    }\n",
       "\n",
       "    .dataframe thead th {\n",
       "        text-align: right;\n",
       "    }\n",
       "</style>\n",
       "<table border=\"1\" class=\"dataframe\">\n",
       "  <thead>\n",
       "    <tr style=\"text-align: right;\">\n",
       "      <th></th>\n",
       "      <th>datetime</th>\n",
       "      <th>Temperature</th>\n",
       "      <th>Humidity</th>\n",
       "      <th>Visibility</th>\n",
       "      <th>Air_Pressure</th>\n",
       "      <th>Wind_Speed</th>\n",
       "    </tr>\n",
       "  </thead>\n",
       "  <tbody>\n",
       "    <tr>\n",
       "      <th>0</th>\n",
       "      <td>2021-12-20T16:34:21.852559Z</td>\n",
       "      <td>14.205</td>\n",
       "      <td>55</td>\n",
       "      <td>11.692031</td>\n",
       "      <td>1018.0</td>\n",
       "      <td>12.660287</td>\n",
       "    </tr>\n",
       "    <tr>\n",
       "      <th>1</th>\n",
       "      <td>2021-12-23T13:34:23.153914Z</td>\n",
       "      <td>17.185</td>\n",
       "      <td>70</td>\n",
       "      <td>12.236663</td>\n",
       "      <td>1021.0</td>\n",
       "      <td>4.241082</td>\n",
       "    </tr>\n",
       "  </tbody>\n",
       "</table>\n",
       "</div>"
      ],
      "text/plain": [
       "                      datetime  Temperature  Humidity  Visibility  \\\n",
       "0  2021-12-20T16:34:21.852559Z       14.205        55   11.692031   \n",
       "1  2021-12-23T13:34:23.153914Z       17.185        70   12.236663   \n",
       "\n",
       "   Air_Pressure  Wind_Speed  \n",
       "0        1018.0   12.660287  \n",
       "1        1021.0    4.241082  "
      ]
     },
     "execution_count": 18,
     "metadata": {},
     "output_type": "execute_result"
    }
   ],
   "source": [
    "dataframe"
   ]
  },
  {
   "cell_type": "markdown",
   "metadata": {},
   "source": [
    "## Task 3"
   ]
  },
  {
   "cell_type": "code",
   "execution_count": 4,
   "metadata": {},
   "outputs": [],
   "source": [
    "response2=requests.get('https://gorest.co.in/public-api/users?_format=json&access-token=H4lYmIGLXZkDlpy_w0ZVS5rgcpDXbN7fhRRy')"
   ]
  },
  {
   "cell_type": "code",
   "execution_count": 7,
   "metadata": {},
   "outputs": [],
   "source": [
    "meta_data=response2.json()"
   ]
  },
  {
   "cell_type": "code",
   "execution_count": 8,
   "metadata": {},
   "outputs": [
    {
     "data": {
      "text/plain": [
       "{'code': 200,\n",
       " 'meta': {'pagination': {'total': 1690, 'pages': 85, 'page': 1, 'limit': 20}},\n",
       " 'data': [{'id': 1933,\n",
       "   'name': 'Hasan',\n",
       "   'email': 'reerr@gmail.com',\n",
       "   'gender': 'female',\n",
       "   'status': 'active'},\n",
       "  {'id': 1935,\n",
       "   'name': 'Hasan',\n",
       "   'email': 'tsyye@gmail.com',\n",
       "   'gender': 'female',\n",
       "   'status': 'active'},\n",
       "  {'id': 1938,\n",
       "   'name': 'Hasan',\n",
       "   'email': 'rrsgw@gmail.com',\n",
       "   'gender': 'female',\n",
       "   'status': 'active'},\n",
       "  {'id': 1939,\n",
       "   'name': 'Hasan',\n",
       "   'email': 'eypas@gmail.com',\n",
       "   'gender': 'female',\n",
       "   'status': 'active'},\n",
       "  {'id': 57,\n",
       "   'name': 'Dr. Daiwik Chaturvedi',\n",
       "   'email': 'chaturvedi_daiwik_dr@champlin.co',\n",
       "   'gender': 'female',\n",
       "   'status': 'active'},\n",
       "  {'id': 58,\n",
       "   'name': 'Mukul Sethi',\n",
       "   'email': 'mukul_sethi@pacocha.com',\n",
       "   'gender': 'female',\n",
       "   'status': 'inactive'},\n",
       "  {'id': 59,\n",
       "   'name': 'Hiranmaya Kapoor',\n",
       "   'email': 'kapoor_hiranmaya@mcclure-kohler.io',\n",
       "   'gender': 'female',\n",
       "   'status': 'active'},\n",
       "  {'id': 62,\n",
       "   'name': 'Fr. Somnath Kaur',\n",
       "   'email': 'kaur_fr_somnath@reichert.info',\n",
       "   'gender': 'female',\n",
       "   'status': 'inactive'},\n",
       "  {'id': 63,\n",
       "   'name': 'Bhamini Mishra',\n",
       "   'email': 'bhamini_mishra@feest.net',\n",
       "   'gender': 'male',\n",
       "   'status': 'inactive'},\n",
       "  {'id': 64,\n",
       "   'name': 'Budhil Joshi Esq.',\n",
       "   'email': 'joshi_budhil_esq@gutmann.io',\n",
       "   'gender': 'female',\n",
       "   'status': 'active'},\n",
       "  {'id': 65,\n",
       "   'name': 'Puneet Sharma',\n",
       "   'email': 'sharma_puneet@mayer.org',\n",
       "   'gender': 'male',\n",
       "   'status': 'active'},\n",
       "  {'id': 66,\n",
       "   'name': 'Sen. Budhil Kaur',\n",
       "   'email': 'budhil_sen_kaur@lockman.org',\n",
       "   'gender': 'male',\n",
       "   'status': 'inactive'},\n",
       "  {'id': 67,\n",
       "   'name': 'Lakshminath Khatri',\n",
       "   'email': 'khatri_lakshminath@mayer.org',\n",
       "   'gender': 'male',\n",
       "   'status': 'inactive'},\n",
       "  {'id': 68,\n",
       "   'name': 'Gorakhnath Bhattathiri',\n",
       "   'email': 'bhattathiri_gorakhnath@farrell-smitham.io',\n",
       "   'gender': 'male',\n",
       "   'status': 'active'},\n",
       "  {'id': 69,\n",
       "   'name': 'Dayamayee Sinha',\n",
       "   'email': 'dayamayee_sinha@bode.co',\n",
       "   'gender': 'male',\n",
       "   'status': 'active'},\n",
       "  {'id': 70,\n",
       "   'name': 'Sen. Bhoopati Patel',\n",
       "   'email': 'bhoopati_patel_sen@lesch.com',\n",
       "   'gender': 'male',\n",
       "   'status': 'active'},\n",
       "  {'id': 71,\n",
       "   'name': 'Charak Shukla',\n",
       "   'email': 'charak_shukla@jakubowski.io',\n",
       "   'gender': 'female',\n",
       "   'status': 'active'},\n",
       "  {'id': 72,\n",
       "   'name': 'Madhuri Agarwal',\n",
       "   'email': 'madhuri_agarwal@stark.net',\n",
       "   'gender': 'female',\n",
       "   'status': 'inactive'},\n",
       "  {'id': 73,\n",
       "   'name': 'Miss Bandhu Ahluwalia',\n",
       "   'email': 'ahluwalia_bandhu_miss@senger.name',\n",
       "   'gender': 'female',\n",
       "   'status': 'active'},\n",
       "  {'id': 1578,\n",
       "   'name': 'сейчас бы пивка',\n",
       "   'email': 'cihpuk6+11@gmail.com',\n",
       "   'gender': 'female',\n",
       "   'status': 'active'}]}"
      ]
     },
     "execution_count": 8,
     "metadata": {},
     "output_type": "execute_result"
    }
   ],
   "source": [
    "meta_data"
   ]
  },
  {
   "cell_type": "code",
   "execution_count": 6,
   "metadata": {},
   "outputs": [
    {
     "name": "stdout",
     "output_type": "stream",
     "text": [
      "Name: Hasan, Gender; female, Email: reerr@gmail.com, Status: 1\n",
      "Name: Hasan, Gender; female, Email: tsyye@gmail.com, Status: 1\n",
      "Name: Hasan, Gender; female, Email: rrsgw@gmail.com, Status: 1\n",
      "Name: Hasan, Gender; female, Email: eypas@gmail.com, Status: 1\n",
      "Name: Dr. Daiwik Chaturvedi, Gender; female, Email: chaturvedi_daiwik_dr@champlin.co, Status: 1\n",
      "Name: Mukul Sethi, Gender; female, Email: mukul_sethi@pacocha.com, Status: 0\n",
      "Name: Hiranmaya Kapoor, Gender; female, Email: kapoor_hiranmaya@mcclure-kohler.io, Status: 1\n",
      "Name: Fr. Somnath Kaur, Gender; female, Email: kaur_fr_somnath@reichert.info, Status: 0\n",
      "Name: Bhamini Mishra, Gender; male, Email: bhamini_mishra@feest.net, Status: 0\n",
      "Name: Budhil Joshi Esq., Gender; female, Email: joshi_budhil_esq@gutmann.io, Status: 1\n",
      "Name: Puneet Sharma, Gender; male, Email: sharma_puneet@mayer.org, Status: 1\n",
      "Name: Sen. Budhil Kaur, Gender; male, Email: budhil_sen_kaur@lockman.org, Status: 0\n",
      "Name: Lakshminath Khatri, Gender; male, Email: khatri_lakshminath@mayer.org, Status: 0\n",
      "Name: Gorakhnath Bhattathiri, Gender; male, Email: bhattathiri_gorakhnath@farrell-smitham.io, Status: 1\n",
      "Name: Dayamayee Sinha, Gender; male, Email: dayamayee_sinha@bode.co, Status: 1\n",
      "Name: Sen. Bhoopati Patel, Gender; male, Email: bhoopati_patel_sen@lesch.com, Status: 1\n",
      "Name: Charak Shukla, Gender; female, Email: charak_shukla@jakubowski.io, Status: 1\n",
      "Name: Madhuri Agarwal, Gender; female, Email: madhuri_agarwal@stark.net, Status: 0\n",
      "Name: Miss Bandhu Ahluwalia, Gender; female, Email: ahluwalia_bandhu_miss@senger.name, Status: 1\n",
      "Name: сейчас бы пивка, Gender; female, Email: cihpuk6+11@gmail.com, Status: 1\n"
     ]
    }
   ],
   "source": [
    "meta_data['data']\n",
    "for meta in meta_data['data']:\n",
    "    if meta['status']=='inactive':\n",
    "        meta['status']='0'\n",
    "    elif meta['status']=='active':\n",
    "        meta['status']='1'\n",
    "    print('Name: {}, Gender; {}, Email: {}, Status: {}'.format(meta['name'],meta['gender'],meta['email'],meta['status']))"
   ]
  },
  {
   "cell_type": "code",
   "execution_count": 71,
   "metadata": {},
   "outputs": [],
   "source": [
    "with open('Meta_Data.csv','w',newline=\"\") as f:\n",
    "    write=csv.writer(f)\n",
    "    write.writerow(['Name', 'Gender', 'Email', 'Status'])\n",
    "    for meta in meta_data['data']:\n",
    "        Name= meta['name']\n",
    "        Gender=meta['gender']\n",
    "        Email=meta['email']\n",
    "        Status=meta['status']\n",
    "        write.writerow([Name, Gender, Email, Status])"
   ]
  },
  {
   "cell_type": "code",
   "execution_count": 77,
   "metadata": {},
   "outputs": [],
   "source": [
    "table=pd.read_csv('Meta_Data.csv')"
   ]
  },
  {
   "cell_type": "code",
   "execution_count": 78,
   "metadata": {},
   "outputs": [
    {
     "data": {
      "text/html": [
       "<div>\n",
       "<style scoped>\n",
       "    .dataframe tbody tr th:only-of-type {\n",
       "        vertical-align: middle;\n",
       "    }\n",
       "\n",
       "    .dataframe tbody tr th {\n",
       "        vertical-align: top;\n",
       "    }\n",
       "\n",
       "    .dataframe thead th {\n",
       "        text-align: right;\n",
       "    }\n",
       "</style>\n",
       "<table border=\"1\" class=\"dataframe\">\n",
       "  <thead>\n",
       "    <tr style=\"text-align: right;\">\n",
       "      <th></th>\n",
       "      <th>Name</th>\n",
       "      <th>Gender</th>\n",
       "      <th>Email</th>\n",
       "      <th>Status</th>\n",
       "    </tr>\n",
       "  </thead>\n",
       "  <tbody>\n",
       "    <tr>\n",
       "      <th>0</th>\n",
       "      <td>Apolonia Olson</td>\n",
       "      <td>male</td>\n",
       "      <td>lesley.mohr@hotmail.com</td>\n",
       "      <td>0</td>\n",
       "    </tr>\n",
       "    <tr>\n",
       "      <th>1</th>\n",
       "      <td>Rajesh</td>\n",
       "      <td>male</td>\n",
       "      <td>tSdAXqXmOT@gamil.com</td>\n",
       "      <td>0</td>\n",
       "    </tr>\n",
       "    <tr>\n",
       "      <th>2</th>\n",
       "      <td>Arjun yadav</td>\n",
       "      <td>male</td>\n",
       "      <td>Arjun@gmail.com</td>\n",
       "      <td>0</td>\n",
       "    </tr>\n",
       "    <tr>\n",
       "      <th>3</th>\n",
       "      <td>Priyanka Deshpandes</td>\n",
       "      <td>male</td>\n",
       "      <td>deshpande_charuvrat@gusikowski-kunde.info</td>\n",
       "      <td>1</td>\n",
       "    </tr>\n",
       "    <tr>\n",
       "      <th>4</th>\n",
       "      <td>Dharitri Pothuvaal Jr.123</td>\n",
       "      <td>male</td>\n",
       "      <td>t7nn42olxoju9s5@gmail.com</td>\n",
       "      <td>1</td>\n",
       "    </tr>\n",
       "    <tr>\n",
       "      <th>5</th>\n",
       "      <td>Dharitri Pothuvaal Jr.123</td>\n",
       "      <td>male</td>\n",
       "      <td>pc390k65prr2n1j@gmail.com</td>\n",
       "      <td>1</td>\n",
       "    </tr>\n",
       "    <tr>\n",
       "      <th>6</th>\n",
       "      <td>meghana</td>\n",
       "      <td>female</td>\n",
       "      <td>yogeshas@mssakitweb.com</td>\n",
       "      <td>1</td>\n",
       "    </tr>\n",
       "    <tr>\n",
       "      <th>7</th>\n",
       "      <td>Dharitri Pothuvaal Jr.123</td>\n",
       "      <td>male</td>\n",
       "      <td>jvjchbkqkjcnkjqdkwkdmmd@gmail.com</td>\n",
       "      <td>1</td>\n",
       "    </tr>\n",
       "    <tr>\n",
       "      <th>8</th>\n",
       "      <td>Jina Daugherty</td>\n",
       "      <td>female</td>\n",
       "      <td>antwan.schulist@gmail.com</td>\n",
       "      <td>1</td>\n",
       "    </tr>\n",
       "    <tr>\n",
       "      <th>9</th>\n",
       "      <td>Ariane Mills</td>\n",
       "      <td>female</td>\n",
       "      <td>santiago.hirthe@gmail.com</td>\n",
       "      <td>1</td>\n",
       "    </tr>\n",
       "    <tr>\n",
       "      <th>10</th>\n",
       "      <td>Janyce Hansen</td>\n",
       "      <td>female</td>\n",
       "      <td>al.ortiz@gmail.com</td>\n",
       "      <td>0</td>\n",
       "    </tr>\n",
       "    <tr>\n",
       "      <th>11</th>\n",
       "      <td>Evette Schoen</td>\n",
       "      <td>male</td>\n",
       "      <td>leslie.haag@yahoo.com</td>\n",
       "      <td>1</td>\n",
       "    </tr>\n",
       "    <tr>\n",
       "      <th>12</th>\n",
       "      <td>Userfor Test</td>\n",
       "      <td>male</td>\n",
       "      <td>testing0006000@email.com</td>\n",
       "      <td>0</td>\n",
       "    </tr>\n",
       "    <tr>\n",
       "      <th>13</th>\n",
       "      <td>Dharitri Pothuvaal Jr.123</td>\n",
       "      <td>male</td>\n",
       "      <td>e0hq7hr57x6yop5@gmail.com</td>\n",
       "      <td>1</td>\n",
       "    </tr>\n",
       "    <tr>\n",
       "      <th>14</th>\n",
       "      <td>oqd65k0D3z</td>\n",
       "      <td>male</td>\n",
       "      <td>kBEOYncv@gmail.com</td>\n",
       "      <td>1</td>\n",
       "    </tr>\n",
       "    <tr>\n",
       "      <th>15</th>\n",
       "      <td>bhavani</td>\n",
       "      <td>female</td>\n",
       "      <td>bhavanik@gmail.com</td>\n",
       "      <td>1</td>\n",
       "    </tr>\n",
       "    <tr>\n",
       "      <th>16</th>\n",
       "      <td>JohnCena</td>\n",
       "      <td>male</td>\n",
       "      <td>johncena@5820ce.com</td>\n",
       "      <td>1</td>\n",
       "    </tr>\n",
       "    <tr>\n",
       "      <th>17</th>\n",
       "      <td>Andrei Rai</td>\n",
       "      <td>male</td>\n",
       "      <td>Deven.Nicolas97@example.org</td>\n",
       "      <td>1</td>\n",
       "    </tr>\n",
       "    <tr>\n",
       "      <th>18</th>\n",
       "      <td>{{$randomFirstName</td>\n",
       "      <td>male</td>\n",
       "      <td>and.rai.test+4@gmail.com</td>\n",
       "      <td>1</td>\n",
       "    </tr>\n",
       "    <tr>\n",
       "      <th>19</th>\n",
       "      <td>user</td>\n",
       "      <td>male</td>\n",
       "      <td>mhbvgj@mail.com</td>\n",
       "      <td>1</td>\n",
       "    </tr>\n",
       "  </tbody>\n",
       "</table>\n",
       "</div>"
      ],
      "text/plain": [
       "                         Name  Gender  \\\n",
       "0              Apolonia Olson    male   \n",
       "1                      Rajesh    male   \n",
       "2                 Arjun yadav    male   \n",
       "3         Priyanka Deshpandes    male   \n",
       "4   Dharitri Pothuvaal Jr.123    male   \n",
       "5   Dharitri Pothuvaal Jr.123    male   \n",
       "6                     meghana  female   \n",
       "7   Dharitri Pothuvaal Jr.123    male   \n",
       "8              Jina Daugherty  female   \n",
       "9                Ariane Mills  female   \n",
       "10              Janyce Hansen  female   \n",
       "11              Evette Schoen    male   \n",
       "12               Userfor Test    male   \n",
       "13  Dharitri Pothuvaal Jr.123    male   \n",
       "14                 oqd65k0D3z    male   \n",
       "15                    bhavani  female   \n",
       "16                   JohnCena    male   \n",
       "17                 Andrei Rai    male   \n",
       "18         {{$randomFirstName    male   \n",
       "19                       user    male   \n",
       "\n",
       "                                        Email  Status  \n",
       "0                     lesley.mohr@hotmail.com       0  \n",
       "1                        tSdAXqXmOT@gamil.com       0  \n",
       "2                             Arjun@gmail.com       0  \n",
       "3   deshpande_charuvrat@gusikowski-kunde.info       1  \n",
       "4                   t7nn42olxoju9s5@gmail.com       1  \n",
       "5                   pc390k65prr2n1j@gmail.com       1  \n",
       "6                     yogeshas@mssakitweb.com       1  \n",
       "7           jvjchbkqkjcnkjqdkwkdmmd@gmail.com       1  \n",
       "8                   antwan.schulist@gmail.com       1  \n",
       "9                   santiago.hirthe@gmail.com       1  \n",
       "10                         al.ortiz@gmail.com       0  \n",
       "11                      leslie.haag@yahoo.com       1  \n",
       "12                   testing0006000@email.com       0  \n",
       "13                  e0hq7hr57x6yop5@gmail.com       1  \n",
       "14                         kBEOYncv@gmail.com       1  \n",
       "15                         bhavanik@gmail.com       1  \n",
       "16                        johncena@5820ce.com       1  \n",
       "17                Deven.Nicolas97@example.org       1  \n",
       "18                   and.rai.test+4@gmail.com       1  \n",
       "19                            mhbvgj@mail.com       1  "
      ]
     },
     "execution_count": 78,
     "metadata": {},
     "output_type": "execute_result"
    }
   ],
   "source": [
    "table"
   ]
  }
 ],
 "metadata": {
  "kernelspec": {
   "display_name": "Python 3",
   "language": "python",
   "name": "python3"
  },
  "language_info": {
   "codemirror_mode": {
    "name": "ipython",
    "version": 3
   },
   "file_extension": ".py",
   "mimetype": "text/x-python",
   "name": "python",
   "nbconvert_exporter": "python",
   "pygments_lexer": "ipython3",
   "version": "3.7.6"
  }
 },
 "nbformat": 4,
 "nbformat_minor": 4
}
