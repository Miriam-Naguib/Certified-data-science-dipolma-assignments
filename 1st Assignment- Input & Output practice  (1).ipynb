{
 "cells": [
  {
   "cell_type": "code",
   "execution_count": 10,
   "metadata": {},
   "outputs": [
    {
     "name": "stdout",
     "output_type": "stream",
     "text": [
      "the radius of a circle is equal: 3\n",
      "18.84955592153876\n"
     ]
    }
   ],
   "source": [
    "# circ of a circle\n",
    "from math import pi\n",
    "radius=int(input('the radius of a circle is equal: '))\n",
    "circumference= pi* radius * 2\n",
    "print(circumference)"
   ]
  },
  {
   "cell_type": "code",
   "execution_count": 11,
   "metadata": {},
   "outputs": [],
   "source": [
    "#by using function\n",
    "def circumference_circle(radius):\n",
    "    area= pi*radius*2\n",
    "    return area"
   ]
  },
  {
   "cell_type": "code",
   "execution_count": 13,
   "metadata": {},
   "outputs": [
    {
     "data": {
      "text/plain": [
       "18.84955592153876"
      ]
     },
     "execution_count": 13,
     "metadata": {},
     "output_type": "execute_result"
    }
   ],
   "source": [
    "circumference_circle(3)"
   ]
  },
  {
   "cell_type": "code",
   "execution_count": 14,
   "metadata": {},
   "outputs": [
    {
     "name": "stdout",
     "output_type": "stream",
     "text": [
      "the length of a rectangle is equal: 3\n",
      "the weidth of a rectangle is equal: 4\n",
      "14\n"
     ]
    }
   ],
   "source": [
    "# rectangle perimeter 2 * (l + W)\n",
    "length=int(input('the length of a rectangle is equal: '))\n",
    "weidth=int(input('the weidth of a rectangle is equal: '))\n",
    "\n",
    "perimeter= (length+weidth)*2\n",
    "print(perimeter)"
   ]
  },
  {
   "cell_type": "code",
   "execution_count": 23,
   "metadata": {},
   "outputs": [],
   "source": [
    "#by using function\n",
    "def rectangle_perimeter(l,w):\n",
    "    perimeter= (l+w)*2\n",
    "    return perimeter"
   ]
  },
  {
   "cell_type": "code",
   "execution_count": 24,
   "metadata": {},
   "outputs": [
    {
     "data": {
      "text/plain": [
       "14"
      ]
     },
     "execution_count": 24,
     "metadata": {},
     "output_type": "execute_result"
    }
   ],
   "source": [
    "rectangle_perimeter(3,4)"
   ]
  },
  {
   "cell_type": "code",
   "execution_count": 25,
   "metadata": {},
   "outputs": [],
   "source": [
    "#another way to use a function\n",
    "def rect_perimeter():\n",
    "    l=int(input('the length of a rectangle is equal: '))\n",
    "    w=int(input('the weidth of a rectangle is equal: '))\n",
    "    perimeter= (l+w)*2\n",
    "    return perimeter"
   ]
  },
  {
   "cell_type": "code",
   "execution_count": 26,
   "metadata": {},
   "outputs": [
    {
     "name": "stdout",
     "output_type": "stream",
     "text": [
      "the length of a rectangle is equal: 3\n",
      "the weidth of a rectangle is equal: 4\n"
     ]
    },
    {
     "data": {
      "text/plain": [
       "14"
      ]
     },
     "execution_count": 26,
     "metadata": {},
     "output_type": "execute_result"
    }
   ],
   "source": [
    "rect_perimeter()"
   ]
  }
 ],
 "metadata": {
  "kernelspec": {
   "display_name": "Python 3",
   "language": "python",
   "name": "python3"
  },
  "language_info": {
   "codemirror_mode": {
    "name": "ipython",
    "version": 3
   },
   "file_extension": ".py",
   "mimetype": "text/x-python",
   "name": "python",
   "nbconvert_exporter": "python",
   "pygments_lexer": "ipython3",
   "version": "3.7.6"
  }
 },
 "nbformat": 4,
 "nbformat_minor": 4
}
