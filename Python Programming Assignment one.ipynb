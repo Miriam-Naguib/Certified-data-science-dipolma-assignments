{
 "cells": [
  {
   "cell_type": "markdown",
   "id": "variable-portfolio",
   "metadata": {},
   "source": [
    "### Numbers\n",
    "#### Answer these 3 questions without typing code. Then type code to check the answer"
   ]
  },
  {
   "cell_type": "markdown",
   "id": "encouraging-union",
   "metadata": {},
   "source": [
    "#### What is the value of the expression 4 * (6 + 5) = 44"
   ]
  },
  {
   "cell_type": "code",
   "execution_count": 1,
   "id": "filled-coach",
   "metadata": {},
   "outputs": [
    {
     "data": {
      "text/plain": [
       "44"
      ]
     },
     "execution_count": 1,
     "metadata": {},
     "output_type": "execute_result"
    }
   ],
   "source": [
    "4*(5+6)"
   ]
  },
  {
   "cell_type": "markdown",
   "id": "protective-duration",
   "metadata": {},
   "source": [
    "#### What is the value of the expression 4 * 6 + 5 = 25"
   ]
  },
  {
   "cell_type": "code",
   "execution_count": 2,
   "id": "contrary-nightlife",
   "metadata": {},
   "outputs": [
    {
     "data": {
      "text/plain": [
       "29"
      ]
     },
     "execution_count": 2,
     "metadata": {},
     "output_type": "execute_result"
    }
   ],
   "source": [
    "4*6+5"
   ]
  },
  {
   "cell_type": "markdown",
   "id": "centered-savannah",
   "metadata": {},
   "source": [
    "#### What is the value of the expression 4 + 6 * 5 = 34"
   ]
  },
  {
   "cell_type": "code",
   "execution_count": 5,
   "id": "disabled-blond",
   "metadata": {},
   "outputs": [
    {
     "data": {
      "text/plain": [
       "34"
      ]
     },
     "execution_count": 5,
     "metadata": {},
     "output_type": "execute_result"
    }
   ],
   "source": [
    "4+6*5\n"
   ]
  },
  {
   "cell_type": "markdown",
   "id": "connected-segment",
   "metadata": {},
   "source": [
    "#### What would you use to find the 5 square?"
   ]
  },
  {
   "cell_type": "code",
   "execution_count": 6,
   "id": "constant-momentum",
   "metadata": {},
   "outputs": [
    {
     "name": "stdout",
     "output_type": "stream",
     "text": [
      "25\n"
     ]
    }
   ],
   "source": [
    "x= 5**2\n",
    "print(x)"
   ]
  },
  {
   "cell_type": "markdown",
   "id": "accredited-playlist",
   "metadata": {},
   "source": [
    "### Strings\n",
    "#### Given the string 'hello' give an index command that returns 'e'. Enter your code in the cell below:\n"
   ]
  },
  {
   "cell_type": "code",
   "execution_count": 7,
   "id": "noticed-default",
   "metadata": {},
   "outputs": [
    {
     "data": {
      "text/plain": [
       "'e'"
      ]
     },
     "execution_count": 7,
     "metadata": {},
     "output_type": "execute_result"
    }
   ],
   "source": [
    "s=\"hello\"\n",
    "s[1]"
   ]
  },
  {
   "cell_type": "markdown",
   "id": "hydraulic-sessions",
   "metadata": {},
   "source": [
    "#### Methods to reverse string"
   ]
  },
  {
   "cell_type": "code",
   "execution_count": 10,
   "id": "brief-female",
   "metadata": {},
   "outputs": [
    {
     "name": "stdout",
     "output_type": "stream",
     "text": [
      "olleh\n",
      "olleh\n"
     ]
    }
   ],
   "source": [
    "# method 1\n",
    "print(s[::-1])\n",
    " # method 2\n",
    "print(s[4::-1])\n"
   ]
  },
  {
   "cell_type": "markdown",
   "id": "domestic-singles",
   "metadata": {},
   "source": [
    "#### Methods to print the last element in the string string"
   ]
  },
  {
   "cell_type": "code",
   "execution_count": 11,
   "id": "rough-racing",
   "metadata": {},
   "outputs": [
    {
     "name": "stdout",
     "output_type": "stream",
     "text": [
      "o\n",
      "o\n",
      "o\n"
     ]
    }
   ],
   "source": [
    "# method 1\n",
    "print(s[4])\n",
    "# method 2\n",
    "print(s[4:5]) \n",
    "# method 3\n",
    "print(s[-1])"
   ]
  },
  {
   "cell_type": "markdown",
   "id": "permanent-consultancy",
   "metadata": {},
   "source": [
    "### List"
   ]
  },
  {
   "cell_type": "markdown",
   "id": "certain-creation",
   "metadata": {},
   "source": [
    "#### Reassign 'hello' in this list to say 'goodbye' instead:"
   ]
  },
  {
   "cell_type": "code",
   "execution_count": 13,
   "id": "lesbian-commissioner",
   "metadata": {},
   "outputs": [
    {
     "data": {
      "text/plain": [
       "[2, 44.6, 'goodbye']"
      ]
     },
     "execution_count": 13,
     "metadata": {},
     "output_type": "execute_result"
    }
   ],
   "source": [
    "List0=[2,44.6,\"Hello\"]\n",
    "List0.remove(\"Hello\")\n",
    "List0\n",
    "List0.append(\"goodbye\")\n",
    "List0"
   ]
  },
  {
   "cell_type": "markdown",
   "id": "helpful-dominican",
   "metadata": {},
   "source": [
    "#### We can creating new list and edit it if we don't want to make changes on the original list by this method:"
   ]
  },
  {
   "cell_type": "code",
   "execution_count": 14,
   "id": "optional-stock",
   "metadata": {},
   "outputs": [
    {
     "data": {
      "text/plain": [
       "[2, 44.6]"
      ]
     },
     "execution_count": 14,
     "metadata": {},
     "output_type": "execute_result"
    }
   ],
   "source": [
    "List0=[2,44.6,\"Hello\"]\n",
    "List_new=List0[ : ]\n",
    "List_new.remove(\"Hello\")\n",
    "List_new"
   ]
  },
  {
   "cell_type": "code",
   "execution_count": 15,
   "id": "remarkable-being",
   "metadata": {},
   "outputs": [
    {
     "data": {
      "text/plain": [
       "[2, 44.6, 'goodbye']"
      ]
     },
     "execution_count": 15,
     "metadata": {},
     "output_type": "execute_result"
    }
   ],
   "source": [
    "List_new.append(\"goodbye\")\n",
    "List_new"
   ]
  },
  {
   "cell_type": "code",
   "execution_count": 16,
   "id": "universal-guitar",
   "metadata": {},
   "outputs": [
    {
     "data": {
      "text/plain": [
       "[2, 44.6, 'Hello']"
      ]
     },
     "execution_count": 16,
     "metadata": {},
     "output_type": "execute_result"
    }
   ],
   "source": [
    "List0"
   ]
  },
  {
   "cell_type": "markdown",
   "id": "needed-indie",
   "metadata": {},
   "source": [
    "#### Sort the list below"
   ]
  },
  {
   "cell_type": "code",
   "execution_count": 18,
   "id": "international-internship",
   "metadata": {},
   "outputs": [
    {
     "data": {
      "text/plain": [
       "[1, 3, 4, 5, 6]"
      ]
     },
     "execution_count": 18,
     "metadata": {},
     "output_type": "execute_result"
    }
   ],
   "source": [
    "list1 = [5,3,4,6,1]\n",
    "# ascendingly\n",
    "list1.sort() \n",
    "list1"
   ]
  },
  {
   "cell_type": "code",
   "execution_count": 19,
   "id": "intended-locator",
   "metadata": {},
   "outputs": [
    {
     "data": {
      "text/plain": [
       "[6, 5, 4, 3, 1]"
      ]
     },
     "execution_count": 19,
     "metadata": {},
     "output_type": "execute_result"
    }
   ],
   "source": [
    "reverse=True\n",
    "list1.sort(reverse=True)\n",
    "# descendingly\n",
    "list1 "
   ]
  }
 ],
 "metadata": {
  "kernelspec": {
   "display_name": "Python 3",
   "language": "python",
   "name": "python3"
  },
  "language_info": {
   "codemirror_mode": {
    "name": "ipython",
    "version": 3
   },
   "file_extension": ".py",
   "mimetype": "text/x-python",
   "name": "python",
   "nbconvert_exporter": "python",
   "pygments_lexer": "ipython3",
   "version": "3.7.4"
  }
 },
 "nbformat": 4,
 "nbformat_minor": 5
}
