{
 "cells": [
  {
   "cell_type": "code",
   "execution_count": 1,
   "metadata": {},
   "outputs": [],
   "source": [
    "#Needed Packages\n",
    "#https://books.toscrape.com/\n",
    "import csv\n",
    "import requests\n",
    "from bs4 import BeautifulSoup"
   ]
  },
  {
   "cell_type": "code",
   "execution_count": 2,
   "metadata": {},
   "outputs": [
    {
     "data": {
      "text/plain": [
       "'Travel'"
      ]
     },
     "execution_count": 2,
     "metadata": {},
     "output_type": "execute_result"
    }
   ],
   "source": [
    "## code of name,category,price\n",
    "## start by the 1st category as an example to follow as a template\n",
    "#Category\n",
    "response=requests.get('https://books.toscrape.com/')\n",
    "soup=BeautifulSoup(response.text,'html.parser')\n",
    "soup.find('ul', attrs={'class':''}).find_all('li')[0].find('a').get_text().strip()\n",
    "#Name\n",
    "domain='https://books.toscrape.com/'\n",
    "link_of_category=domain+soup.find('ul',attrs={'class':''}).find_all('li')[0].find('a').get(\"href\")\n",
    "link_of_category\n",
    "soup1=BeautifulSoup(requests.get(link_of_category).text,'html.parser')\n",
    "name=soup1.find_all('h3')[0].find('a').get('title')\n",
    "#Rate\n",
    "rating_dict={'One':'1','Two':'2','Three':'3','Four':'4','Five':'5'}\n",
    "rating_dict[soup1.find_all('p')[::3][0].get('class')[1]]\n",
    "#Price\n",
    "float(soup1.find_all('div', attrs={'class':\"product_price\"})[0].find('p', attrs={'class':\"price_color\"}).get_text()[2:])\n",
    "#Category\n",
    "soup1.find('h1').get_text()"
   ]
  },
  {
   "cell_type": "code",
   "execution_count": 3,
   "metadata": {},
   "outputs": [],
   "source": [
    "#list of links to loop on\n",
    "rating_dict={'One':'1','Two':'2','Three':'3','Four':'4','Five':'5'}\n",
    "Links=[]\n",
    "Book_Title=[]\n",
    "Book_Price=[]\n",
    "Book_Category=[]\n",
    "Book_Rating=[]\n",
    "for link in soup.find('ul',attrs={'class':''}).find_all('li'):\n",
    "    Links.append(domain+link.find('a').get(\"href\"))\n",
    "for i in Links:\n",
    "    BeautifulSoup(requests.get(i).text,'html.parser')\n",
    "    for book_title in BeautifulSoup(requests.get(i).text,'html.parser').find_all('h3'):\n",
    "        Book_Title.append(book_title.find('a').get('title'))\n",
    "        for book_category in BeautifulSoup(requests.get(i).text,'html.parser').find_all('h1'):\n",
    "            Book_Category.append(book_category.get_text())\n",
    "    for bookprice in BeautifulSoup(requests.get(i).text,'html.parser').find_all('div', attrs={'class':\"product_price\"}):\n",
    "        Book_Price.append(float(bookprice.find('p', attrs={'class':\"price_color\"}).get_text()[2:]))\n",
    "    for book_rating in BeautifulSoup(requests.get(i).text,'html.parser').find_all('p')[::3]:\n",
    "        Book_Rating.append(rating_dict[book_rating.get('class')[1]])"
   ]
  },
  {
   "cell_type": "code",
   "execution_count": 4,
   "metadata": {},
   "outputs": [],
   "source": [
    "import pandas as pd\n",
    "dict = {\"Book Name\": Book_Title, \"Price\": Book_Price,\n",
    "        \"Rate\": Book_Rating, \"Category\": Book_Category}\n",
    "df = pd.DataFrame(dict)\n",
    "df\n",
    "df.to_csv('Book.csv')"
   ]
  },
  {
   "cell_type": "code",
   "execution_count": 5,
   "metadata": {},
   "outputs": [
    {
     "data": {
      "text/html": [
       "<div>\n",
       "<style scoped>\n",
       "    .dataframe tbody tr th:only-of-type {\n",
       "        vertical-align: middle;\n",
       "    }\n",
       "\n",
       "    .dataframe tbody tr th {\n",
       "        vertical-align: top;\n",
       "    }\n",
       "\n",
       "    .dataframe thead th {\n",
       "        text-align: right;\n",
       "    }\n",
       "</style>\n",
       "<table border=\"1\" class=\"dataframe\">\n",
       "  <thead>\n",
       "    <tr style=\"text-align: right;\">\n",
       "      <th></th>\n",
       "      <th>Book Name</th>\n",
       "      <th>Price</th>\n",
       "      <th>Rate</th>\n",
       "      <th>Category</th>\n",
       "    </tr>\n",
       "  </thead>\n",
       "  <tbody>\n",
       "    <tr>\n",
       "      <th>0</th>\n",
       "      <td>It's Only the Himalayas</td>\n",
       "      <td>45.17</td>\n",
       "      <td>2</td>\n",
       "      <td>Travel</td>\n",
       "    </tr>\n",
       "    <tr>\n",
       "      <th>1</th>\n",
       "      <td>Full Moon over Noahâs Ark: An Odyssey to Mou...</td>\n",
       "      <td>49.43</td>\n",
       "      <td>4</td>\n",
       "      <td>Travel</td>\n",
       "    </tr>\n",
       "    <tr>\n",
       "      <th>2</th>\n",
       "      <td>See America: A Celebration of Our National Par...</td>\n",
       "      <td>48.87</td>\n",
       "      <td>3</td>\n",
       "      <td>Travel</td>\n",
       "    </tr>\n",
       "    <tr>\n",
       "      <th>3</th>\n",
       "      <td>Vagabonding: An Uncommon Guide to the Art of L...</td>\n",
       "      <td>36.94</td>\n",
       "      <td>2</td>\n",
       "      <td>Travel</td>\n",
       "    </tr>\n",
       "    <tr>\n",
       "      <th>4</th>\n",
       "      <td>Under the Tuscan Sun</td>\n",
       "      <td>37.33</td>\n",
       "      <td>3</td>\n",
       "      <td>Travel</td>\n",
       "    </tr>\n",
       "    <tr>\n",
       "      <th>...</th>\n",
       "      <td>...</td>\n",
       "      <td>...</td>\n",
       "      <td>...</td>\n",
       "      <td>...</td>\n",
       "    </tr>\n",
       "    <tr>\n",
       "      <th>512</th>\n",
       "      <td>Why the Right Went Wrong: Conservatism--From G...</td>\n",
       "      <td>52.65</td>\n",
       "      <td>4</td>\n",
       "      <td>Politics</td>\n",
       "    </tr>\n",
       "    <tr>\n",
       "      <th>513</th>\n",
       "      <td>Equal Is Unfair: America's Misguided Fight Aga...</td>\n",
       "      <td>56.86</td>\n",
       "      <td>1</td>\n",
       "      <td>Politics</td>\n",
       "    </tr>\n",
       "    <tr>\n",
       "      <th>514</th>\n",
       "      <td>Amid the Chaos</td>\n",
       "      <td>36.58</td>\n",
       "      <td>1</td>\n",
       "      <td>Cultural</td>\n",
       "    </tr>\n",
       "    <tr>\n",
       "      <th>515</th>\n",
       "      <td>Dark Notes</td>\n",
       "      <td>19.19</td>\n",
       "      <td>5</td>\n",
       "      <td>Erotica</td>\n",
       "    </tr>\n",
       "    <tr>\n",
       "      <th>516</th>\n",
       "      <td>The Long Shadow of Small Ghosts: Murder and Me...</td>\n",
       "      <td>10.97</td>\n",
       "      <td>1</td>\n",
       "      <td>Crime</td>\n",
       "    </tr>\n",
       "  </tbody>\n",
       "</table>\n",
       "<p>517 rows × 4 columns</p>\n",
       "</div>"
      ],
      "text/plain": [
       "                                             Book Name  Price Rate  Category\n",
       "0                              It's Only the Himalayas  45.17    2    Travel\n",
       "1    Full Moon over Noahâs Ark: An Odyssey to Mou...  49.43    4    Travel\n",
       "2    See America: A Celebration of Our National Par...  48.87    3    Travel\n",
       "3    Vagabonding: An Uncommon Guide to the Art of L...  36.94    2    Travel\n",
       "4                                 Under the Tuscan Sun  37.33    3    Travel\n",
       "..                                                 ...    ...  ...       ...\n",
       "512  Why the Right Went Wrong: Conservatism--From G...  52.65    4  Politics\n",
       "513  Equal Is Unfair: America's Misguided Fight Aga...  56.86    1  Politics\n",
       "514                                     Amid the Chaos  36.58    1  Cultural\n",
       "515                                         Dark Notes  19.19    5   Erotica\n",
       "516  The Long Shadow of Small Ghosts: Murder and Me...  10.97    1     Crime\n",
       "\n",
       "[517 rows x 4 columns]"
      ]
     },
     "execution_count": 5,
     "metadata": {},
     "output_type": "execute_result"
    }
   ],
   "source": [
    "df"
   ]
  },
  {
   "cell_type": "markdown",
   "metadata": {},
   "source": [
    "## Task 2"
   ]
  },
  {
   "cell_type": "code",
   "execution_count": 66,
   "metadata": {},
   "outputs": [],
   "source": [
    "def Dollars_to_Egyptian_Pounds():\n",
    "    USD=float(input('Please enter currency in dollars: '))\n",
    "    Soup_Currency=BeautifulSoup(requests.get('https://www.exchangerates.org.uk/Dollars-to-Egyptian-Pounds-currency-conversion-page.html').text,'html.parser')\n",
    "    one_EGP=float(Soup_Currency.find('title').get_text().split('=')[1].strip().split()[0])\n",
    "    Egp= one_EGP * USD\n",
    "    return Egp "
   ]
  },
  {
   "cell_type": "code",
   "execution_count": 68,
   "metadata": {},
   "outputs": [
    {
     "name": "stdout",
     "output_type": "stream",
     "text": [
      "Please enter currency in dollars: 1\n"
     ]
    },
    {
     "data": {
      "text/plain": [
       "15.712"
      ]
     },
     "execution_count": 68,
     "metadata": {},
     "output_type": "execute_result"
    }
   ],
   "source": [
    "Dollars_to_Egyptian_Pounds()"
   ]
  }
 ],
 "metadata": {
  "kernelspec": {
   "display_name": "Python 3",
   "language": "python",
   "name": "python3"
  },
  "language_info": {
   "codemirror_mode": {
    "name": "ipython",
    "version": 3
   },
   "file_extension": ".py",
   "mimetype": "text/x-python",
   "name": "python",
   "nbconvert_exporter": "python",
   "pygments_lexer": "ipython3",
   "version": "3.7.6"
  }
 },
 "nbformat": 4,
 "nbformat_minor": 4
}
